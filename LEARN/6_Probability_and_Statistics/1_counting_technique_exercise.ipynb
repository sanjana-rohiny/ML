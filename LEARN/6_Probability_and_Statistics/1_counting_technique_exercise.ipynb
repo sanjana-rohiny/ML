{
 "cells": [
  {
   "cell_type": "markdown",
   "id": "dac4ddbe",
   "metadata": {},
   "source": [
    "\n",
    "Problem Statement:\n",
    "\n",
    "In a class, it was observed out of the total strength there are 50 boys and 40 girls. Their teacher wants to select 1 boy and 1 girl for representing the class in a function. So, what would be the total number of ways that the teacher can make this selection?\n"
   ]
  },
  {
   "cell_type": "code",
   "execution_count": 2,
   "id": "8ce0feeb",
   "metadata": {},
   "outputs": [
    {
     "name": "stdout",
     "output_type": "stream",
     "text": [
      "50\n",
      "40\n",
      "Total number of ways to select 1 boy and 1 girl: 2000\n"
     ]
    }
   ],
   "source": [
    "import math\n",
    "\n",
    "# Total number of boys and girls\n",
    "total_boys = 50\n",
    "total_girls = 40\n",
    "\n",
    "# Calculate the number of ways to select 1 boy and 1 girl using combinations\n",
    "ways_to_select_boy = math.comb(total_boys, 1)\n",
    "ways_to_select_girl = math.comb(total_girls, 1)\n",
    "\n",
    "print(ways_to_select_boy)\n",
    "print(ways_to_select_girl)\n",
    "\n",
    "# Calculate the total number of ways\n",
    "total_ways = ways_to_select_boy * ways_to_select_girl\n",
    "\n",
    "# Print the result\n",
    "print(\"Total number of ways to select 1 boy and 1 girl:\", total_ways)\n"
   ]
  },
  {
   "cell_type": "markdown",
   "id": "9adb5f26",
   "metadata": {},
   "source": [
    "\n",
    "Problem Statement:\n",
    "\n",
    "In a university, there is a student who has 3 library tickets and there are 8 books of his interest in the library. Out of these 8, he does not want to borrow a book named Java Advance, unless Java Beginners is also borrowed. In how many ways can he select the three books to be borrowed?\n"
   ]
  },
  {
   "cell_type": "markdown",
   "id": "592851ae",
   "metadata": {},
   "source": [
    "    The student borrows the \"Java Beginners\" book:\n",
    "    In this case, the student has 7 remaining books to choose 2 more from (excluding \"Java Advance\").\n",
    "    So, the number of ways to select 2 books out of 7 is given by \"7 choose 2.\"\n",
    "\n",
    "    The student does not borrow the \"Java Beginners\" book:\n",
    "    In this case, the student has 7 books to choose 3 from (since he doesn't want to borrow \"Java Advance\").\n",
    "    So, the number of ways to select 3 books out of 7 is given by \"7 choose 3.\"\n",
    "\n",
    "Now, we can calculate the total number of ways by adding the results from both cases:\n",
    "\n",
    "Total ways = Number of ways in Case 1 + Number of ways in Case 2\n",
    "Total ways = (7 choose 2) + (7 choose 3)\n",
    "\n",
    "Let's calculate this using Python:"
   ]
  },
  {
   "cell_type": "code",
   "execution_count": 3,
   "id": "72e7ffdb",
   "metadata": {},
   "outputs": [
    {
     "name": "stdout",
     "output_type": "stream",
     "text": [
      "Total number of ways to select 3 books: 56\n"
     ]
    }
   ],
   "source": [
    "import math\n",
    "\n",
    "# Calculate the number of ways to select 2 books out of 7 (Case 1)\n",
    "ways_case_1 = math.comb(7, 2)\n",
    "\n",
    "# Calculate the number of ways to select 3 books out of 7 (Case 2)\n",
    "ways_case_2 = math.comb(7, 3)\n",
    "\n",
    "# Calculate the total number of ways\n",
    "total_ways = ways_case_1 + ways_case_2\n",
    "\n",
    "# Print the result\n",
    "print(\"Total number of ways to select 3 books:\", total_ways)\n"
   ]
  },
  {
   "cell_type": "markdown",
   "id": "62a30df9",
   "metadata": {},
   "source": [
    "\n",
    "Problem Statement:\n",
    "\n",
    "If we have a total of 6 different colour flags. What would be the total number of signals that can be sent taking one or more at a time?\n"
   ]
  },
  {
   "cell_type": "markdown",
   "id": "dc92819b",
   "metadata": {},
   "source": [
    "t sounds like you want to find the total number of signals that can be sent using different combinations of flags. Since you can take one or more flags at a time, this problem involves finding the power set of a set containing 6 different color flags. The power set of a set is the set of all possible subsets, including the empty set and the set itself.\n",
    "\n",
    "For a set with nn elements, the power set has 2n2n subsets. In your case, with 6 different color flags, the total number of signals that can be sent is 26=6426=64, including the empty set and the set containing all 6 flags."
   ]
  },
  {
   "cell_type": "code",
   "execution_count": 4,
   "id": "e451d5f3",
   "metadata": {},
   "outputs": [
    {
     "name": "stdout",
     "output_type": "stream",
     "text": [
      "Total number of signals that can be sent: 64\n"
     ]
    }
   ],
   "source": [
    "total_flags = 6\n",
    "total_signals = 2 ** total_flags\n",
    "print(\"Total number of signals that can be sent:\", total_signals)\n"
   ]
  },
  {
   "cell_type": "code",
   "execution_count": null,
   "id": "151e8f43",
   "metadata": {},
   "outputs": [],
   "source": []
  }
 ],
 "metadata": {
  "kernelspec": {
   "display_name": "Python 3 (ipykernel)",
   "language": "python",
   "name": "python3"
  },
  "language_info": {
   "codemirror_mode": {
    "name": "ipython",
    "version": 3
   },
   "file_extension": ".py",
   "mimetype": "text/x-python",
   "name": "python",
   "nbconvert_exporter": "python",
   "pygments_lexer": "ipython3",
   "version": "3.11.4"
  }
 },
 "nbformat": 4,
 "nbformat_minor": 5
}
