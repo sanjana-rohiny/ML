{
 "cells": [
  {
   "cell_type": "markdown",
   "id": "d5005a61",
   "metadata": {},
   "source": [
    "# permutatoin\n",
    "\n",
    "abc -> 3P2 = ab, ac, bc, ba, ca, cb\n",
    "\n",
    "# Combination\n",
    "\n",
    "abc -> 3C2 = ab, ac, bc\n"
   ]
  },
  {
   "cell_type": "code",
   "execution_count": 2,
   "id": "5243739a",
   "metadata": {},
   "outputs": [
    {
     "data": {
      "text/plain": [
       "6"
      ]
     },
     "execution_count": 2,
     "metadata": {},
     "output_type": "execute_result"
    }
   ],
   "source": [
    "from scipy.special import comb \n",
    "comb(4, 2, exact=True) #If exact is False, then floating point precision is used, otherwise exact long integer is computed.\n"
   ]
  },
  {
   "cell_type": "code",
   "execution_count": 3,
   "id": "4ec97b3f",
   "metadata": {},
   "outputs": [
    {
     "data": {
      "text/plain": [
       "6"
      ]
     },
     "execution_count": 3,
     "metadata": {},
     "output_type": "execute_result"
    }
   ],
   "source": [
    "#To find no. of permutations\n",
    "import math;\n",
    "comb(3, 2, exact=True)* math.factorial(2)\n"
   ]
  },
  {
   "cell_type": "code",
   "execution_count": null,
   "id": "5d219a32",
   "metadata": {},
   "outputs": [],
   "source": []
  }
 ],
 "metadata": {
  "kernelspec": {
   "display_name": "Python 3 (ipykernel)",
   "language": "python",
   "name": "python3"
  },
  "language_info": {
   "codemirror_mode": {
    "name": "ipython",
    "version": 3
   },
   "file_extension": ".py",
   "mimetype": "text/x-python",
   "name": "python",
   "nbconvert_exporter": "python",
   "pygments_lexer": "ipython3",
   "version": "3.11.4"
  }
 },
 "nbformat": 4,
 "nbformat_minor": 5
}
