{
 "cells": [
  {
   "cell_type": "markdown",
   "id": "3aa09784",
   "metadata": {},
   "source": [
    "# Problem Statement:\n",
    "\n",
    "A TV manufacturing company has 2 plants lets call them A and B. \n",
    "The production by plant A is reported to be 80% of the stock where 85% of the products is defect free. \n",
    "While plant B produces rest of the TVs where 65% of the produce is defect free. \n",
    "What would be the probability that a randomly selected TV has a defect and has been produced by plant B?\n"
   ]
  },
  {
   "cell_type": "markdown",
   "id": "e3e0b212",
   "metadata": {},
   "source": [
    "AIM:To calculate the probability that a randomly selected TV has a defect and has been produced by plant B, \n",
    "\n",
    "\n",
    "Plant A produces 80% of the stock, and 85% of its products are defect-free.\n",
    "Plant B produces the remaining 20% of the stock, and 65% of its products are defect-free.\n",
    "    \n",
    "First, let's calculate the probability that a TV is produced by plant B and is defect-free:\n",
    "\n",
    "Probability of defect-free TV from plant B = Probability of being produced by plant B * Probability of being defect-free from plant B\n",
    "\n",
    "= 0.20 * 0.65\n",
    "= 0.13\n",
    "\n",
    "Now, to find the probability that a TV is produced by plant B and has a defect, you can subtract the probability of a defect-free TV from plant B from 1:\n",
    "\n",
    "Probability of defect in TV from plant B = 1 - Probability of defect-free TV from plant B\n",
    "= 1 - 0.13\n",
    "= 0.87\n",
    "\n",
    "So, the probability that a randomly selected TV has a defect and has been produced by plant B is 0.87, or 87%."
   ]
  },
  {
   "cell_type": "code",
   "execution_count": 1,
   "id": "36017912",
   "metadata": {},
   "outputs": [
    {
     "name": "stdout",
     "output_type": "stream",
     "text": [
      "The probability that a randomly selected TV has a defect and has been produced by plant B is: 0.87\n"
     ]
    }
   ],
   "source": [
    "# Probability values\n",
    "prob_production_plant_B = 0.20\n",
    "prob_defect_free_plant_B = 0.65\n",
    "\n",
    "# Calculate the probability of defect-free TV from plant B\n",
    "prob_defect_free_TV_B = prob_production_plant_B * prob_defect_free_plant_B\n",
    "\n",
    "# Calculate the probability of defect in TV from plant B\n",
    "prob_defect_TV_B = 1 - prob_defect_free_TV_B\n",
    "\n",
    "# Print the result\n",
    "print(f\"The probability that a randomly selected TV has a defect and has been produced by plant B is: {prob_defect_TV_B:.2f}\")\n"
   ]
  },
  {
   "cell_type": "code",
   "execution_count": null,
   "id": "5de01632",
   "metadata": {},
   "outputs": [],
   "source": []
  }
 ],
 "metadata": {
  "kernelspec": {
   "display_name": "Python 3 (ipykernel)",
   "language": "python",
   "name": "python3"
  },
  "language_info": {
   "codemirror_mode": {
    "name": "ipython",
    "version": 3
   },
   "file_extension": ".py",
   "mimetype": "text/x-python",
   "name": "python",
   "nbconvert_exporter": "python",
   "pygments_lexer": "ipython3",
   "version": "3.11.4"
  }
 },
 "nbformat": 4,
 "nbformat_minor": 5
}
