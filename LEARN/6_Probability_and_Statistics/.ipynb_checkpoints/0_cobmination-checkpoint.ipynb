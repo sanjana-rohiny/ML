{
 "cells": [
  {
   "cell_type": "code",
   "execution_count": null,
   "id": "dc9a5366",
   "metadata": {},
   "outputs": [],
   "source": [
    "# permutatoin\n",
    "\n",
    "abc -> 3P2 = ab, ac, bc, ba, ca, cb\n",
    "\n",
    "# Combination\n",
    "\n",
    "abc -> 3C2 = ab, ac, bc\n"
   ]
  },
  {
   "cell_type": "code",
   "execution_count": null,
   "id": "9c8c62e4",
   "metadata": {},
   "outputs": [],
   "source": [
    "from scipy.special import comb \n",
    "comb(4, 2, exact=True) #If exact is False, then floating point precision is used, otherwise exact long integer is computed.\n"
   ]
  }
 ],
 "metadata": {
  "kernelspec": {
   "display_name": "Python 3 (ipykernel)",
   "language": "python",
   "name": "python3"
  },
  "language_info": {
   "codemirror_mode": {
    "name": "ipython",
    "version": 3
   },
   "file_extension": ".py",
   "mimetype": "text/x-python",
   "name": "python",
   "nbconvert_exporter": "python",
   "pygments_lexer": "ipython3",
   "version": "3.11.4"
  }
 },
 "nbformat": 4,
 "nbformat_minor": 5
}
