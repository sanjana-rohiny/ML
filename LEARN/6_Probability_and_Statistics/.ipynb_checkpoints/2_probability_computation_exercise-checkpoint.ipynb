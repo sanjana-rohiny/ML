{
 "cells": [
  {
   "cell_type": "markdown",
   "id": "cef4f8f0",
   "metadata": {},
   "source": [
    "\n",
    "Problem Statement:\n",
    "\n",
    "In an experiment that was done over a group of students to find out their blood group, the following data are reported:\n",
    "\n",
    "Blood group \tNumber of students\n",
    "\n",
    "    A                  90\n",
    "    B                  60\n",
    "    O                  120\n",
    "    AB                 30\n",
    "\n",
    "After the experiment, a student was selected at random. Her blood group had a probability of 0.2. Identify her blood group?\n",
    "\n",
    "\\\n"
   ]
  },
  {
   "cell_type": "code",
   "execution_count": 2,
   "id": "f0d079d5",
   "metadata": {},
   "outputs": [
    {
     "name": "stdout",
     "output_type": "stream",
     "text": [
      "300\n"
     ]
    }
   ],
   "source": [
    "Total_number_of_students = 90 + 60 + 120 + 30\n",
    "print(Total_number_of_students)\n"
   ]
  },
  {
   "cell_type": "markdown",
   "id": "d414a7da",
   "metadata": {},
   "source": [
    "Now, we are told that a student was selected at random, and her blood group has a probability of 0.2. In other words, the probability of her having a particular blood group P(Blood group)=0.2P(Blood group)=0.2.\n",
    "\n",
    "We can calculate the probability of each blood group as the ratio of the number of students with that blood group to the total number of students:"
   ]
  },
  {
   "cell_type": "code",
   "execution_count": null,
   "id": "1d8fa0cd",
   "metadata": {},
   "outputs": [],
   "source": [
    "# P(A) =  Number of students with blood group A/ Total numberof students\n",
    "# Similarly  P(A) 90/300\n",
    "# Similarly  P(B) 60/300\n",
    "# Similarly  P(O) 120/300\n",
    "# Similarly  P(AB) 30/300\n"
   ]
  },
  {
   "cell_type": "code",
   "execution_count": 3,
   "id": "f0b388fa",
   "metadata": {},
   "outputs": [
    {
     "name": "stdout",
     "output_type": "stream",
     "text": [
      "0.3\n",
      "0.2\n",
      "0.4\n",
      "0.1\n"
     ]
    }
   ],
   "source": [
    "P_of_A = 90/300\n",
    "P_of_B = 60/300\n",
    "P_of_O = 120/300\n",
    "P_of_AB = 30/300\n",
    "\n",
    "print(P_of_A)\n",
    "print(P_of_B)\n",
    "print(P_of_O)\n",
    "print(P_of_AB)\n"
   ]
  },
  {
   "cell_type": "code",
   "execution_count": null,
   "id": "e3c3d5b1",
   "metadata": {},
   "outputs": [],
   "source": [
    "\n",
    "# to find the bloodgrup of P(Blood group)=0.2., \n",
    "# Check which one is 0.2\n",
    "\n",
    "if (P_of_A = 0.2)\n",
    "    print(\"Blood  group is A\")\n",
    "else if (P_of_B = 0.2)     \n",
    "    print(\"Blood  group is B)\n",
    "else if (P_of_O = 0.2)     \n",
    "    print(\"Blood  group is O)\n",
    "else if (P_of_AB = 0.2)     \n",
    "    print(\"Blood  group is AB)\n",
    "\n"
   ]
  }
 ],
 "metadata": {
  "kernelspec": {
   "display_name": "Python 3 (ipykernel)",
   "language": "python",
   "name": "python3"
  },
  "language_info": {
   "codemirror_mode": {
    "name": "ipython",
    "version": 3
   },
   "file_extension": ".py",
   "mimetype": "text/x-python",
   "name": "python",
   "nbconvert_exporter": "python",
   "pygments_lexer": "ipython3",
   "version": "3.11.4"
  }
 },
 "nbformat": 4,
 "nbformat_minor": 5
}
