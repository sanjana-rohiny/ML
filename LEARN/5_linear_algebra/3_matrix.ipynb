{
 "cells": [
  {
   "cell_type": "code",
   "execution_count": 1,
   "id": "df2eebf3",
   "metadata": {},
   "outputs": [
    {
     "name": "stdout",
     "output_type": "stream",
     "text": [
      "2x2 Matrix\n",
      " [[1 2]\n",
      " [3 4]] \n",
      "shape of matrix ->  (2, 2)\n",
      "\n",
      "3x3 Matrix\n",
      " [[ 1  2  3]\n",
      " [ 4  5  6]\n",
      " [ 8  9 10]] \n",
      "shape of matrix ->  (3, 3)\n"
     ]
    }
   ],
   "source": [
    "# importing required libraries (numpy as np)\n",
    "import numpy as np\n",
    "# Creating matrices of various dimension using np.array() function\n",
    "matrix_2x2 = np.array([[1, 2], \n",
    "                       [3, 4]])\n",
    "matrix_3x3 = np.array([[1, 2, 3],\n",
    "                       [4, 5, 6],\n",
    "                       [8, 9, 10]])\n",
    "print(\"2x2 Matrix\\n\",matrix_2x2,\"\\nshape of matrix -> \",matrix_2x2.shape)\n",
    "print(\"\\n3x3 Matrix\\n\",matrix_3x3,\"\\nshape of matrix -> \",matrix_3x3.shape)\n"
   ]
  },
  {
   "cell_type": "markdown",
   "id": "55048628",
   "metadata": {},
   "source": [
    "# Types of Matrices\n",
    "# Matrices can be categorized on the basis of the value of their elements, position of elements,  number of rows and columns, etc. as follows:\n",
    "\n",
    "# Diagonal matrix\n",
    "# Identity matrix\n",
    "# Symmetric matrix\n",
    "# Triangular matrix"
   ]
  },
  {
   "cell_type": "code",
   "execution_count": 2,
   "id": "c6d43b3c",
   "metadata": {},
   "outputs": [
    {
     "name": "stdout",
     "output_type": "stream",
     "text": [
      "[[1 0 0]\n",
      " [0 3 0]\n",
      " [0 0 2]]\n",
      "[[1 0 0]\n",
      " [0 3 0]\n",
      " [0 0 5]]\n"
     ]
    }
   ],
   "source": [
    "# Diagonal Matrix\n",
    "\n",
    "# importing required libraries (numpy as np)\n",
    "import numpy as np\n",
    "# Creating a diagonal matrix with diagonal elements as (1,3,2)\n",
    "diagonal_matrix = np.diag((1,3,2))\n",
    "print(diagonal_matrix)\n",
    "# Creating a diagonal matrix with a range of values\n",
    "matrix_range= np.diag(np.arange(1,6,2))\n",
    "print(matrix_range)\n"
   ]
  },
  {
   "cell_type": "markdown",
   "id": "8c71a4a2",
   "metadata": {},
   "source": [
    "# Identity Matrix\n",
    "# An identity matrix is a square matrix of dimensions (n, n) having '1' across its main diagonal and '0' everywhere else. It is usually represented as 'In'\n",
    "\n",
    "# Example: The matrix shown below illustrates a (3, 3) Identity matrix.\n",
    "\n"
   ]
  },
  {
   "cell_type": "code",
   "execution_count": 3,
   "id": "738cc515",
   "metadata": {},
   "outputs": [
    {
     "name": "stdout",
     "output_type": "stream",
     "text": [
      "Identity_matrix 1\n",
      " [[1. 0.]\n",
      " [0. 1.]]\n",
      "\n",
      "Identity_matrix 2\n",
      " [[1. 0. 0.]\n",
      " [0. 1. 0.]\n",
      " [0. 0. 1.]]\n"
     ]
    }
   ],
   "source": [
    "# importing required libraries (numpy as np)\n",
    "import numpy as np\n",
    "#Creating an Identity matrix of size 2 using np.identity() function\n",
    "identity_matrix_1 = np.identity(2)\n",
    "print(\"Identity_matrix 1\\n\",identity_matrix_1)\n",
    "#Creating an Identity matrix of size 3 using np.eye() fucntion\n",
    "identity_matrix_2 = np.eye(3)\n",
    "print(\"\\nIdentity_matrix 2\\n\",identity_matrix_2)\n"
   ]
  },
  {
   "cell_type": "markdown",
   "id": "0a3bc7a8",
   "metadata": {},
   "source": [
    "# Symmetric Matrix\n",
    "# A square matrix A of dimension (n, n) is symmetric, if A = AT i.e.  the matrix A is the same as its transpose."
   ]
  },
  {
   "cell_type": "code",
   "execution_count": 5,
   "id": "1df2c3f0",
   "metadata": {},
   "outputs": [
    {
     "name": "stdout",
     "output_type": "stream",
     "text": [
      "A:\n",
      " [[ 2  3  1]\n",
      " [ 3  4 -1]\n",
      " [ 1 -1  1]]\n",
      "Transpose of A:\n",
      " [[ 2  3  1]\n",
      " [ 3  4 -1]\n",
      " [ 1 -1  1]]\n",
      "True\n"
     ]
    }
   ],
   "source": [
    "# importing required libraries (numpy as np)\n",
    "import numpy as np\n",
    "#Creating matrix A\n",
    "A = np.array([[2,3,1],\n",
    "            [3,4,-1],\n",
    "            [1,-1,1]])\n",
    "print(\"A:\\n\" , A)\n",
    "# Finding the Transpose of the matrix\n",
    "transposed_matrix = A.transpose()\n",
    "print(\"Transpose of A:\\n\" , transposed_matrix)\n",
    "#Comparing each element of both matrices (returns a matrix of boolean compared values) and saving it in a variable comparison\n",
    "comparison = (A == transposed_matrix)\n",
    "#Checking if all the elements in the matrix comparision is true\n",
    "equal_arrays = comparison.all()\n",
    "print(equal_arrays)\n"
   ]
  },
  {
   "cell_type": "markdown",
   "id": "4f3c51a9",
   "metadata": {},
   "source": [
    "# Triangular Matrix\n",
    "# A triangular matrix can be either a lower triangular or an upper triangular matrix.\n",
    "\n"
   ]
  },
  {
   "cell_type": "code",
   "execution_count": 8,
   "id": "9d7c0f01",
   "metadata": {},
   "outputs": [
    {
     "name": "stdout",
     "output_type": "stream",
     "text": [
      "Lower triangular matrix\n",
      " [[1 0 0]\n",
      " [4 5 0]\n",
      " [7 8 9]]\n"
     ]
    }
   ],
   "source": [
    "# importing required libraries (numpy as np)\n",
    "import numpy as np\n",
    "#Creating a lower triangular matrix\n",
    "lower_triangular_matrix_1 = np.tril([[1,2,3],\n",
    "                               [4,5,6],\n",
    "                               [7,8,9]])\n",
    "print(\"Lower triangular matrix\\n\",lower_triangular_matrix_1)\n"
   ]
  },
  {
   "cell_type": "code",
   "execution_count": 9,
   "id": "9461d1d5",
   "metadata": {},
   "outputs": [
    {
     "name": "stdout",
     "output_type": "stream",
     "text": [
      "Upper triangular matrix\n",
      " [[1 2 3]\n",
      " [0 5 6]\n",
      " [0 0 9]]\n"
     ]
    }
   ],
   "source": [
    "# importing required libraries (numpy as np)\n",
    "import numpy as np\n",
    "#Creating a Upper triangular matrix\n",
    "upper_triangular_matrix_1 = np.triu([[1,2,3],\n",
    "                               [4,5,6],\n",
    "                               [7,8,9]])\n",
    "print(\"Upper triangular matrix\\n\",upper_triangular_matrix_1)\n"
   ]
  },
  {
   "cell_type": "code",
   "execution_count": null,
   "id": "d956b642",
   "metadata": {},
   "outputs": [],
   "source": []
  }
 ],
 "metadata": {
  "kernelspec": {
   "display_name": "Python 3 (ipykernel)",
   "language": "python",
   "name": "python3"
  },
  "language_info": {
   "codemirror_mode": {
    "name": "ipython",
    "version": 3
   },
   "file_extension": ".py",
   "mimetype": "text/x-python",
   "name": "python",
   "nbconvert_exporter": "python",
   "pygments_lexer": "ipython3",
   "version": "3.11.4"
  }
 },
 "nbformat": 4,
 "nbformat_minor": 5
}
