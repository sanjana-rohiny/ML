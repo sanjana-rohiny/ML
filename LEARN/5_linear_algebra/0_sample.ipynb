{
 "cells": [
  {
   "cell_type": "markdown",
   "id": "8c064ca0",
   "metadata": {},
   "source": [
    "# Solve these equation using Linear algebra\n",
    "\n",
    "2x + y = 5\n",
    "3x - 2y = -3\n",
    "\n",
    "| 2  1 |   | x |   | 5 |\n",
    "| 3 -2 | x | y | = |-3 |\n",
    "\n",
    "[A] x [X] = [B]\n",
    "[X] = [A_inv] * [B]\n",
    "\n",
    "A -> Coefficient matrix\n",
    "B -> Constant matrix\n",
    "X -> Solution matrix\n",
    "\n"
   ]
  },
  {
   "cell_type": "code",
   "execution_count": 2,
   "id": "1f62ec4d",
   "metadata": {},
   "outputs": [
    {
     "name": "stdout",
     "output_type": "stream",
     "text": [
      "Solution:\n",
      "x = 1.0000000000000004\n",
      "y = 3.0000000000000004\n"
     ]
    }
   ],
   "source": [
    "import numpy as np\n",
    "\n",
    "# Coefficient matrix A\n",
    "A = np.array([[2, 1], [3, -2]])\n",
    "\n",
    "# Constant matrix B\n",
    "B = np.array([5, -3])\n",
    "\n",
    "# Calculate the inverse of A\n",
    "A_inv = np.linalg.inv(A)\n",
    "\n",
    "# Calculate the solution matrix X\n",
    "X = np.dot(A_inv, B)\n",
    "\n",
    "# Extract the values of x and y from the solution matrix X\n",
    "x, y = X\n",
    "\n",
    "print(\"Solution:\")\n",
    "print(\"x =\", x)\n",
    "print(\"y =\", y)\n"
   ]
  },
  {
   "cell_type": "code",
   "execution_count": null,
   "id": "b7818f5c",
   "metadata": {},
   "outputs": [],
   "source": []
  }
 ],
 "metadata": {
  "kernelspec": {
   "display_name": "Python 3 (ipykernel)",
   "language": "python",
   "name": "python3"
  },
  "language_info": {
   "codemirror_mode": {
    "name": "ipython",
    "version": 3
   },
   "file_extension": ".py",
   "mimetype": "text/x-python",
   "name": "python",
   "nbconvert_exporter": "python",
   "pygments_lexer": "ipython3",
   "version": "3.11.4"
  }
 },
 "nbformat": 4,
 "nbformat_minor": 5
}
