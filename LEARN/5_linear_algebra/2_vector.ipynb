{
 "cells": [
  {
   "cell_type": "markdown",
   "id": "2f8a7ec9",
   "metadata": {},
   "source": [
    "# Vector\n",
    "# A vector is an ordered collection of scalars. It can be represented in two forms:\n",
    "\n",
    "# Column vector: Contains n rows and 1 column\n",
    "# Row vector: Contains 1 row and n columns\n",
    "# The number of scalars in a vector is called its dimension or order. \n",
    "\n",
    "# Example: A column vector 'u' of dimension 2 is illustrated below:\n",
    "# u = [4\n",
    "       3]\n",
    "# v = [ 4  -1 2]\n",
    "\n",
    "#Example: A row vector 'v' of dimension 3 is illustrated below:\n",
    "\n"
   ]
  },
  {
   "cell_type": "code",
   "execution_count": 1,
   "id": "5fb4b45a",
   "metadata": {},
   "outputs": [
    {
     "name": "stdout",
     "output_type": "stream",
     "text": [
      "A column vector\n",
      " [[4]\n",
      " [3]]\n",
      "Shape of vector= (2, 1)\n"
     ]
    }
   ],
   "source": [
    "# importing required library (numpy as np)\n",
    "import numpy as np\n",
    "# creating a column vector with 2 rows and 1 column using np.array() function\n",
    "col_vec = np.array([[4],[3]])\n",
    "print (\"A column vector\\n\",col_vec)\n",
    "# printing the shape of the vector\n",
    "print(\"Shape of vector=\",col_vec.shape)\n"
   ]
  },
  {
   "cell_type": "code",
   "execution_count": 2,
   "id": "6532e7cc",
   "metadata": {},
   "outputs": [
    {
     "name": "stdout",
     "output_type": "stream",
     "text": [
      "A row vector\n",
      " [[ 4 -1  2]]\n",
      "Shape of vector= (1, 3)\n"
     ]
    }
   ],
   "source": [
    "# importing required library (numpy as np)\n",
    "import numpy as np\n",
    "# creating a row vector with 1 row and 3 columns using np.array() function\n",
    "row_vec = np.array([[4,-1,2]])\n",
    "print(\"A row vector\\n\",row_vec)\n",
    "# printing the shape of the vector\n",
    "print(\"Shape of vector=\",row_vec.shape)\n"
   ]
  },
  {
   "cell_type": "code",
   "execution_count": 3,
   "id": "d42fedcb",
   "metadata": {},
   "outputs": [
    {
     "name": "stdout",
     "output_type": "stream",
     "text": [
      "[0 0 0]\n",
      "[0. 0. 0.]\n",
      "[[0.]\n",
      " [0.]\n",
      " [0.]]\n"
     ]
    }
   ],
   "source": [
    "# importing required library (numpy as np)\n",
    "import numpy as np\n",
    "#Illustrating a Zero row vector of dimension 3 using np.array() function\n",
    "zero_vector_1=np.array([0,0,0])\n",
    "print(zero_vector_1)\n",
    "#Illustrating a Zero row vector of dimension 3 using np.zeros() function\n",
    "zero_vector_2=np.zeros(3)\n",
    "print(zero_vector_2)\n",
    "#Illustrating a Zero column vector of dimension 3 using np.zeros() and reshape() function\n",
    "zero_vector_3=np.zeros(3).reshape(3,-1)\n",
    "print(zero_vector_3)\n"
   ]
  },
  {
   "cell_type": "code",
   "execution_count": 4,
   "id": "6ecb92ad",
   "metadata": {},
   "outputs": [
    {
     "name": "stdout",
     "output_type": "stream",
     "text": [
      "[1 1 1]\n",
      "[1. 1. 1.]\n",
      "[[1.]\n",
      " [1.]\n",
      " [1.]]\n"
     ]
    }
   ],
   "source": [
    "# importing required library (numpy as np)\n",
    "import numpy as np\n",
    "#Illustrating a One vector of dimension 3 using np.array() function\n",
    "one_vector_1=np.array([1,1,1])\n",
    "print(one_vector_1)\n",
    "#Illustrating a One vector of dimension 3 using np.ones() function\n",
    "one_vector_2=np.ones(3)\n",
    "print(one_vector_2)\n",
    "#Illustrating a column vector of ones of dimension 3 using np.ones() and reshape() function \n",
    "one_vector_3=np.ones(3).reshape(3,-1)\n",
    "print(one_vector_3)\n"
   ]
  },
  {
   "cell_type": "code",
   "execution_count": null,
   "id": "93585966",
   "metadata": {},
   "outputs": [],
   "source": []
  }
 ],
 "metadata": {
  "kernelspec": {
   "display_name": "Python 3 (ipykernel)",
   "language": "python",
   "name": "python3"
  },
  "language_info": {
   "codemirror_mode": {
    "name": "ipython",
    "version": 3
   },
   "file_extension": ".py",
   "mimetype": "text/x-python",
   "name": "python",
   "nbconvert_exporter": "python",
   "pygments_lexer": "ipython3",
   "version": "3.11.4"
  }
 },
 "nbformat": 4,
 "nbformat_minor": 5
}
