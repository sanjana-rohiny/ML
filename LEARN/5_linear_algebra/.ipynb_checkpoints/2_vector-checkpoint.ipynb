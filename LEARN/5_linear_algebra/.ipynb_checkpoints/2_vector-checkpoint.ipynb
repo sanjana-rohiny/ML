{
 "cells": [
  {
   "cell_type": "code",
   "execution_count": null,
   "id": "3a31e3dc",
   "metadata": {},
   "outputs": [],
   "source": [
    "# Vector\n",
    "# A vector is an ordered collection of scalars. It can be represented in two forms:\n",
    "\n",
    "# Column vector: Contains n rows and 1 column\n",
    "# Row vector: Contains 1 row and n columns\n",
    "# The number of scalars in a vector is called its dimension or order. \n",
    "\n",
    "# Example: A column vector 'u' of dimension 2 is illustrated below:\n",
    "# u = [4\n",
    "       3]\n",
    "# v = [ 4  -1 2]\n",
    "\n",
    "#Example: A row vector 'v' of dimension 3 is illustrated below:\n",
    "\n"
   ]
  }
 ],
 "metadata": {
  "kernelspec": {
   "display_name": "Python 3 (ipykernel)",
   "language": "python",
   "name": "python3"
  },
  "language_info": {
   "codemirror_mode": {
    "name": "ipython",
    "version": 3
   },
   "file_extension": ".py",
   "mimetype": "text/x-python",
   "name": "python",
   "nbconvert_exporter": "python",
   "pygments_lexer": "ipython3",
   "version": "3.11.4"
  }
 },
 "nbformat": 4,
 "nbformat_minor": 5
}
