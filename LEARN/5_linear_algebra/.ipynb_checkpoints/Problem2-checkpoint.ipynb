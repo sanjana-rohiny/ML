{
 "cells": [
  {
   "cell_type": "markdown",
   "id": "7ea2bd0f",
   "metadata": {},
   "source": [
    "# Find the solution of the following System of Linear Equations using Cramer’s Rule.\n",
    "2x + 3y + 2z = 1   \n",
    "x + 3z = 2   \n",
    "2x + 2y + 2z = 3   "
   ]
  },
  {
   "cell_type": "code",
   "execution_count": 7,
   "id": "a63f29a9",
   "metadata": {},
   "outputs": [
    {
     "name": "stdout",
     "output_type": "stream",
     "text": [
      "A = [[2 3 2]\n",
      " [1 0 3]\n",
      " [2 2 2]]\n",
      "B = [1 2 3]\n",
      "Ax = [[1 3 2]\n",
      " [2 0 3]\n",
      " [3 2 2]]\n",
      "Solution:\n",
      "x = 4.25, y = -2.00, z = -0.75\n"
     ]
    }
   ],
   "source": [
    "import numpy as np\n",
    "\n",
    "# Coefficient matrix A\n",
    "A = np.array([[2, 3, 2],\n",
    "              [1, 0, 3],\n",
    "              [2, 2, 2]])\n",
    "\n",
    "# Constant matrix B\n",
    "B = np.array([1, 2, 3])\n",
    "print(f'A = {A}')\n",
    "print(f'B = {B}')\n",
    "# Calculate the determinant of A\n",
    "detA = np.linalg.det(A)\n",
    "\n",
    "# Calculate the determinants of Ax, Ay, and Az\n",
    "Ax = A.copy()\n",
    "Ax[:, 0] = B\n",
    "print(f'Ax = {Ax}')\n",
    "detAx = np.linalg.det(Ax)\n",
    "\n",
    "Ay = A.copy()\n",
    "Ay[:, 1] = B\n",
    "detAy = np.linalg.det(Ay)\n",
    "\n",
    "Az = A.copy()\n",
    "Az[:, 2] = B\n",
    "detAz = np.linalg.det(Az)\n",
    "\n",
    "# Calculate the solutions for x, y, and z\n",
    "x = detAx / detA\n",
    "y = detAy / detA\n",
    "z = detAz / detA\n",
    "\n",
    "print(\"Solution:\")\n",
    "print(f\"x = {x:.2f}, y = {y:.2f}, z = {z:.2f}\")\n"
   ]
  },
  {
   "cell_type": "markdown",
   "id": "5963108a",
   "metadata": {},
   "source": [
    "# Exercise 2\n",
    "# Find the solution of the following System of Equations using Gaussian Elimination and Gauss Jordan method.\n",
    "\n",
    "12x1 + x2  = 18    \n",
    "7x1  -  8x2 = 32\n",
    "\n",
    "\n",
    "# 1 : Gaussian Elimination:"
   ]
  },
  {
   "cell_type": "code",
   "execution_count": 9,
   "id": "91d7decb",
   "metadata": {},
   "outputs": [
    {
     "name": "stdout",
     "output_type": "stream",
     "text": [
      "Solution using Gaussian Elimination:\n",
      "x1 = 1.71, x2 = -2.50\n"
     ]
    }
   ],
   "source": [
    "import numpy as np\n",
    "\n",
    "# Coefficient matrix A\n",
    "A = np.array([[12, 1],\n",
    "              [7, -8]], dtype=float)  # Specify dtype=float\n",
    "\n",
    "# Constant matrix B\n",
    "B = np.array([18, 32], dtype=float)  # Specify dtype=float\n",
    "\n",
    "# Augmented matrix [A|B]\n",
    "augmented_matrix = np.column_stack((A, B))\n",
    "\n",
    "# Perform Gaussian Elimination\n",
    "n = augmented_matrix.shape[0]  # Number of equations\n",
    "\n",
    "for i in range(n):\n",
    "    # Make the diagonal element 1\n",
    "    divisor = augmented_matrix[i, i]\n",
    "    augmented_matrix[i, :] /= divisor\n",
    "\n",
    "    # Eliminate other elements in the current column\n",
    "    for j in range(n):\n",
    "        if i != j:\n",
    "            factor = augmented_matrix[j, i]\n",
    "            augmented_matrix[j, :] -= factor * augmented_matrix[i, :]\n",
    "\n",
    "# Back-substitute to find the values of x1 and x2\n",
    "x2 = augmented_matrix[1, -1]\n",
    "x1 = augmented_matrix[0, -1] - augmented_matrix[0, 1] * x2\n",
    "\n",
    "print(\"Solution using Gaussian Elimination:\")\n",
    "print(f\"x1 = {x1:.2f}, x2 = {x2:.2f}\")\n"
   ]
  },
  {
   "cell_type": "markdown",
   "id": "416e9fcd",
   "metadata": {},
   "source": [
    "#  Gauss-Jordan method in Python:"
   ]
  },
  {
   "cell_type": "code",
   "execution_count": 11,
   "id": "87b8aeb2",
   "metadata": {},
   "outputs": [
    {
     "name": "stdout",
     "output_type": "stream",
     "text": [
      "\n",
      "Solution using Gauss-Jordan method:\n",
      "x1 = 1.71, x2 = -2.50\n"
     ]
    }
   ],
   "source": [
    "import numpy as np\n",
    "\n",
    "# Coefficient matrix A\n",
    "A = np.array([[12, 1],\n",
    "              [7, -8]], dtype=float)  # Specify dtype=float\n",
    "\n",
    "# Constant matrix B\n",
    "B = np.array([18, 32], dtype=float)  # Specify dtype=float\n",
    "\n",
    "# Augmented matrix [A|B]\n",
    "augmented_matrix = np.column_stack((A, B))\n",
    "\n",
    "# Perform Gauss-Jordan method\n",
    "n = augmented_matrix.shape[0]  # Number of equations\n",
    "\n",
    "for i in range(n):\n",
    "    # Make the diagonal element 1\n",
    "    divisor = augmented_matrix[i, i]\n",
    "    augmented_matrix[i, :] /= divisor\n",
    "\n",
    "    # Eliminate other elements in the current column\n",
    "    for j in range(n):\n",
    "        if i != j:\n",
    "            factor = augmented_matrix[j, i]\n",
    "            augmented_matrix[j, :] -= factor * augmented_matrix[i, :]\n",
    "\n",
    "# The last column contains the solutions for x1 and x2\n",
    "solutions = augmented_matrix[:, -1]\n",
    "\n",
    "x1 = solutions[0]\n",
    "x2 = solutions[1]\n",
    "\n",
    "print(\"\\nSolution using Gauss-Jordan method:\")\n",
    "print(f\"x1 = {x1:.2f}, x2 = {x2:.2f}\")\n"
   ]
  },
  {
   "cell_type": "code",
   "execution_count": null,
   "id": "33afd724",
   "metadata": {},
   "outputs": [],
   "source": []
  }
 ],
 "metadata": {
  "kernelspec": {
   "display_name": "Python 3 (ipykernel)",
   "language": "python",
   "name": "python3"
  },
  "language_info": {
   "codemirror_mode": {
    "name": "ipython",
    "version": 3
   },
   "file_extension": ".py",
   "mimetype": "text/x-python",
   "name": "python",
   "nbconvert_exporter": "python",
   "pygments_lexer": "ipython3",
   "version": "3.11.4"
  }
 },
 "nbformat": 4,
 "nbformat_minor": 5
}
