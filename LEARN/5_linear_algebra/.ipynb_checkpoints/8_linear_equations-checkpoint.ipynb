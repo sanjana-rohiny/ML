{
 "cells": [
  {
   "attachments": {},
   "cell_type": "markdown",
   "id": "a3b924f7",
   "metadata": {},
   "source": [
    "# Solving a System of Linear Equations\n",
    "\n",
    "# x= np.linalg.solve(A,B)\n",
    "\n",
    "x1  + 3x2 - x3 = 4\n",
    "2x1 + 5x2 + 4x3 = 19\n",
    "2x1 + 3x2 - x3 = 7\n",
    "\n",
    "1 3 -1     x1     4\n",
    "2 5  4  X  x2  =  19\n",
    "2 3 -1     x3     7\n",
    "\n",
    "     1 3 -1        x1       4\n",
    "A =  2 5  4  X =   x2  B =  19\n",
    "     2 3 -1        x3       7\n",
    "\n",
    "      1 3 -1  4\n",
    "AB =  2 5  4 19\n",
    "      2 3 -1  7\n"
   ]
  },
  {
   "cell_type": "code",
   "execution_count": 1,
   "id": "0402d15b",
   "metadata": {},
   "outputs": [
    {
     "name": "stdout",
     "output_type": "stream",
     "text": [
      "The value of x1 is:  3.0\n",
      "The value of x2 is:  1.0\n",
      "The value of x3 is:  2.0\n"
     ]
    }
   ],
   "source": [
    "# import the library numpy \n",
    "import numpy as np\n",
    "#Define the coefficient matrix\n",
    "matrix_1 = np.array([[1, 3, -1],\n",
    "              [2, 5, 4],\n",
    "              [2, 3, -1]])\n",
    "# Define the vector\n",
    "matrix_2 = np.array([4,19,7])\n",
    "# Find the solution for the system of equations using the solve() method\n",
    "x= np.linalg.solve(matrix_1, matrix_2)\n",
    "print(\"The value of x1 is: \",x[0])\n",
    "print(\"The value of x2 is: \",x[1])\n",
    "print(\"The value of x3 is: \",x[2])\n"
   ]
  },
  {
   "cell_type": "markdown",
   "id": "ff10a6b0",
   "metadata": {},
   "source": [
    "# Finding Inverse\n",
    "\n",
    "# Gauss Jordan technique can be used to find the inverse of a square matrix."
   ]
  },
  {
   "cell_type": "code",
   "execution_count": 2,
   "id": "beea46ca",
   "metadata": {},
   "outputs": [
    {
     "name": "stdout",
     "output_type": "stream",
     "text": [
      "[[-1.00000000e+00  4.85722573e-17  1.00000000e+00]\n",
      " [ 5.88235294e-01  5.88235294e-02 -3.52941176e-01]\n",
      " [-2.35294118e-01  1.76470588e-01 -5.88235294e-02]]\n"
     ]
    }
   ],
   "source": [
    "#import numpy library\n",
    "import numpy as np\n",
    "#Create matrix\n",
    "matrix_1 = np.array([[1, 3, -1],\n",
    "                      [2, 5, 4],\n",
    "                      [2, 3, -1]])\n",
    "#Finding the Inverse of the matrix\n",
    "print(np.linalg.inv(matrix_1))\n"
   ]
  },
  {
   "cell_type": "markdown",
   "id": "c01e62c1",
   "metadata": {},
   "source": [
    "# Cramer’s Rule\n",
    "\n",
    "Cramer’s Rule is a method to solve a System of Linear Equations. Unlike Gaussian Elimination, this rule helps in finding solutions to a subset of variables rather than solving the entire System of Linear Equations. This is helpful when linear equations contain large number of variables.\n",
    "\n",
    "Example: Consider the following System of Linear Equations of the form Ax=b:"
   ]
  },
  {
   "cell_type": "code",
   "execution_count": null,
   "id": "2a544c69",
   "metadata": {},
   "outputs": [],
   "source": []
  }
 ],
 "metadata": {
  "kernelspec": {
   "display_name": "Python 3 (ipykernel)",
   "language": "python",
   "name": "python3"
  },
  "language_info": {
   "codemirror_mode": {
    "name": "ipython",
    "version": 3
   },
   "file_extension": ".py",
   "mimetype": "text/x-python",
   "name": "python",
   "nbconvert_exporter": "python",
   "pygments_lexer": "ipython3",
   "version": "3.11.4"
  }
 },
 "nbformat": 4,
 "nbformat_minor": 5
}
