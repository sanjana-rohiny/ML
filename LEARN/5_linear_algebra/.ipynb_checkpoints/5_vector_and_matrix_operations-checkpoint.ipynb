{
 "cells": [
  {
   "cell_type": "markdown",
   "id": "d00ff1c7",
   "metadata": {},
   "source": [
    "# The function add() of the NumPy library, is used to add vectors. Vector addition is illustrated below: "
   ]
  },
  {
   "cell_type": "code",
   "execution_count": 1,
   "id": "2b18647d",
   "metadata": {},
   "outputs": [
    {
     "name": "stdout",
     "output_type": "stream",
     "text": [
      "1st  Vector :   [[ 2 -1  1]]\n",
      "2nd  Vector :   [[ 1  2 -1]]\n",
      "Added Vector :  [[3 1 0]]\n"
     ]
    }
   ],
   "source": [
    "# importing required libraries (numpy as np)\n",
    "import numpy as np\n",
    "#Create 2 vectors\n",
    "vector_1 = np.array([[2, -1, 1]]) \n",
    "vector_2 = np.array([[1, 2, -1]]) \n",
    "   \n",
    "print (\"1st  Vector :  \", vector_1)  \n",
    "print (\"2nd  Vector :  \", vector_2)  \n",
    "# Addition of the vectors using the function np.add()\n",
    "out = np.add(vector_1, vector_2)  \n",
    "print (\"Added Vector : \", out)\n"
   ]
  },
  {
   "cell_type": "markdown",
   "id": "3bd827ca",
   "metadata": {},
   "source": [
    "# Matrix Addition\n",
    "\n",
    "Matrices of the same dimension can be added by adding their corresponding elements."
   ]
  },
  {
   "cell_type": "code",
   "execution_count": 3,
   "id": "d6e22862",
   "metadata": {},
   "outputs": [
    {
     "name": "stdout",
     "output_type": "stream",
     "text": [
      "1st  Matrix : \n",
      " [[ 10  20  30]\n",
      " [-30 -40 -50]]\n",
      "2nd  Matrix : \n",
      " [[ 100 -200  300]\n",
      " [  30   50   70]]\n",
      "Added Matrix : \n",
      " [[ 110 -180  330]\n",
      " [   0   10   20]]\n"
     ]
    }
   ],
   "source": [
    "# Creation of 2 matrices\n",
    "matrix_1 = np.array([[10,20,30],\n",
    "                     [-30,-40,-50]]) \n",
    "matrix_2 = np.array([[100,-200,300],\n",
    "                     [30,50,70]]) \n",
    "   \n",
    "print (\"1st  Matrix : \\n\", matrix_1)  \n",
    "print (\"2nd  Matrix : \\n\", matrix_2)  \n",
    "# Addition of the matrices using np.add() function\n",
    "out = np.add(matrix_1, matrix_2)  \n",
    "print (\"Added Matrix : \\n\", out)\n"
   ]
  },
  {
   "cell_type": "markdown",
   "id": "1ffe0daa",
   "metadata": {},
   "source": [
    "# Multiplication of Vector by a Scalar\n",
    "\n",
    "In the multiplication of a vector by a scalar, each element of the vector is multiplied by the given scalar quantity."
   ]
  },
  {
   "cell_type": "code",
   "execution_count": 4,
   "id": "d1466fb9",
   "metadata": {},
   "outputs": [
    {
     "name": "stdout",
     "output_type": "stream",
     "text": [
      "Vector: \n",
      " [[ 2]\n",
      " [-1]\n",
      " [ 3]] \n",
      "Scalar: 2.5 \n",
      "Scalar Vector multiplication:\n",
      " [[ 5. ]\n",
      " [-2.5]\n",
      " [ 7.5]]\n"
     ]
    }
   ],
   "source": [
    "\n",
    "#Defining a Vector 'v' and scalar 's'\n",
    "v = np.array([[2],[-1],[3]])\n",
    "s = 2.5 \n",
    "#Scalar Vector Multiplication\n",
    "vector_mul = v*s \n",
    "print(\"Vector: \\n\",v,\"\\nScalar:\",s,\"\\nScalar Vector multiplication:\\n\",vector_mul)\n"
   ]
  },
  {
   "cell_type": "markdown",
   "id": "9c6338cb",
   "metadata": {},
   "source": [
    "# Multiplication of Matrix by a Scalar\n",
    "\n",
    "In the multiplication of a matrix by a scalar, each element of the matrix is multiplied by the given scalar quantity."
   ]
  },
  {
   "cell_type": "code",
   "execution_count": 5,
   "id": "83e678f5",
   "metadata": {},
   "outputs": [
    {
     "name": "stdout",
     "output_type": "stream",
     "text": [
      "Matrix:\n",
      " [[ 1  2  1]\n",
      " [-1  1  0]\n",
      " [ 2 -1  1]]\n",
      "Scalar : 2.5\n",
      "Multiplication of Matrix by a Scalar:\n",
      " [[ 2.5  5.   2.5]\n",
      " [-2.5  2.5  0. ]\n",
      " [ 5.  -2.5  2.5]]\n"
     ]
    }
   ],
   "source": [
    "\n",
    "#Defining a matrix 'A' and scalar 's'\n",
    "A = np.array([[1,2,1],\n",
    "                     [-1,1,0],\n",
    "                     [2,-1,1]])\n",
    "print(\"Matrix:\\n\",A)\n",
    "s = 2.5\n",
    "print(\"Scalar :\",s)\n",
    "#Multiplication of Matrix by a Scalar\n",
    "matrix_mul =  s * A\n",
    "print(\"Multiplication of Matrix by a Scalar:\\n\",matrix_mul)\n"
   ]
  },
  {
   "cell_type": "markdown",
   "id": "c352b003",
   "metadata": {},
   "source": [
    "# Inner Product\n",
    "#  <vi * v2 > = Vi(transpose) * V2\n",
    "\n",
    "The inner product is a way to multiply two vectors and the result of this multiplication is a scalar. \n",
    "This is also known as the dot product. If v1 and v2 are two column vectors of dimension n, \n",
    "then their inner product (v1.v2) is,"
   ]
  },
  {
   "cell_type": "code",
   "execution_count": 6,
   "id": "e6c35695",
   "metadata": {},
   "outputs": [
    {
     "name": "stdout",
     "output_type": "stream",
     "text": [
      "Vector 1:\n",
      " [1 2 3]\n",
      "Vector 2:\n",
      " [1 0 3]\n",
      "Inner Product of Vector 1, Vector 2:\n",
      " 10\n"
     ]
    }
   ],
   "source": [
    "\n",
    "#Creating the vectors\n",
    "vector_1 = np.array([1,2,3]) \n",
    "vector_2 = np.array([1,0,3]) \n",
    "print(\"Vector 1:\\n\",vector_1)\n",
    "print(\"Vector 2:\\n\",vector_2)\n",
    "# Finding inner product of vector of same dimensions using inner() function of the NumPy library.\n",
    "inner_product_1 = np.inner(vector_1,vector_2)\n",
    "print(\"Inner Product of Vector 1, Vector 2:\\n\",inner_product_1)\n"
   ]
  },
  {
   "cell_type": "markdown",
   "id": "9a6a24a4",
   "metadata": {},
   "source": [
    "# Angle between vectors\n",
    "\n",
    "If v1 and v2 are non-zero vectors of dimension n then the cosine of the angle between them is:"
   ]
  },
  {
   "cell_type": "code",
   "execution_count": 7,
   "id": "75ffde28",
   "metadata": {},
   "outputs": [
    {
     "name": "stdout",
     "output_type": "stream",
     "text": [
      "v1 =  [ 3 -1  2] \n",
      "v2 =  [ 2  4 -1]\n",
      "Angle Between the vectors v1 and v2 in 'degree' is : 90.0\n"
     ]
    }
   ],
   "source": [
    "#import the library numpy\n",
    "import numpy as np\n",
    "# Function to find angle between two vectors\n",
    "def angle_between(vector_1, vector_2):\n",
    "    dot_pr = vector_1.dot(vector_2)\n",
    "    norms = np.linalg.norm(vector_1) * np.linalg.norm(vector_2)\n",
    " \n",
    "    return np.rad2deg(np.arccos(dot_pr / norms))\n",
    "# Create two vectors\n",
    "vector_1 = np.array([3,-1,2])\n",
    "vector_2 = np.array([2,4,-1]) \n",
    "print(\"v1 = \",vector_1,\"\\nv2 = \", vector_2)\n",
    "#Find the angle between them by using the function angle_between()\n",
    "print(\"Angle Between the vectors v1 and v2 in 'degree' is :\",angle_between(vector_1, vector_2))\n"
   ]
  },
  {
   "cell_type": "markdown",
   "id": "d121b9bc",
   "metadata": {},
   "source": [
    "# Matrix - Vector Multiplication\n",
    "\n",
    "#  np.matmul(A,v)\n",
    "\n",
    "Consider a matrix A of dimension (m, n) and a column vector v of dimension n.\n",
    "The product of A and v is represented as A.v, which is a column vector of dimension m."
   ]
  },
  {
   "cell_type": "code",
   "execution_count": 8,
   "id": "dbb78bfd",
   "metadata": {},
   "outputs": [
    {
     "name": "stdout",
     "output_type": "stream",
     "text": [
      "A :\n",
      " [[1 2 3]\n",
      " [4 5 6]\n",
      " [7 8 9]]\n",
      "v :\n",
      " [[1]\n",
      " [2]\n",
      " [3]]\n",
      "Product of A and v is: \n",
      " [[14]\n",
      " [32]\n",
      " [50]]\n"
     ]
    }
   ],
   "source": [
    "\n",
    "#Define a matrix\n",
    "A =  np.array([[1, 2, 3], [4, 5, 6], [7, 8, 9]])\n",
    "print(\"A :\\n\", A)\n",
    "#Define a column vector\n",
    "v = np.array([[1], [2], [3]])\n",
    "print(\"v :\\n\", v)\n",
    "# Find product of the matrix and Vector\n",
    "product = np.matmul(A,v)\n",
    "print(\"Product of A and v is: \\n\", product)\n"
   ]
  },
  {
   "cell_type": "markdown",
   "id": "fe579b58",
   "metadata": {},
   "source": [
    "# Matrix Multiplication\n",
    "\n",
    "Consider a matrix A of dimension (m, n) and a matrix B of dimension\n",
    "(p, q). A.B is possible, only if n = p and the resultant matrix is of dimension (m, q)."
   ]
  },
  {
   "cell_type": "code",
   "execution_count": 9,
   "id": "9d4a1049",
   "metadata": {},
   "outputs": [
    {
     "name": "stdout",
     "output_type": "stream",
     "text": [
      "A :\n",
      " [[1 4 7]\n",
      " [2 5 8]\n",
      " [3 6 9]]\n",
      "B :\n",
      " [[4 2 3]\n",
      " [2 0 7]\n",
      " [1 3 0]]\n",
      "Matrix Multiplication: A.B :\n",
      " [[19 23 31]\n",
      " [26 28 41]\n",
      " [33 33 51]]\n"
     ]
    }
   ],
   "source": [
    "\n",
    "# Creating Matrices\n",
    "A = np.array([[1, 4, 7], \n",
    "            [2, 5, 8], \n",
    "            [3, 6, 9]])\n",
    "B = np.array([[4, 2, 3],\n",
    "            [2, 0, 7],\n",
    "            [1, 3, 0]])\n",
    "print(\"A :\\n\", A)\n",
    "print(\"B :\\n\", B)\n",
    "# Multiplying A and B\n",
    "result=np.matmul(A,B)\n",
    "print(\"Matrix Multiplication: A.B :\\n\",result)\n"
   ]
  },
  {
   "cell_type": "markdown",
   "id": "10e2471a",
   "metadata": {},
   "source": [
    "# Determinant\n",
    "\n",
    "The Determinant of a square matrix is a scalar value computed from its elements."
   ]
  },
  {
   "cell_type": "code",
   "execution_count": 10,
   "id": "4db19792",
   "metadata": {},
   "outputs": [
    {
     "name": "stdout",
     "output_type": "stream",
     "text": [
      "10.000000000000002\n"
     ]
    }
   ],
   "source": [
    "# importing required libraries (numpy as np)\n",
    "import numpy as np\n",
    "# Creating Matrix\n",
    "matrix = np.array([[10, 2], \n",
    "                  [5, 2]])\n",
    "#Finding the determinant\n",
    "print(np.linalg.det(matrix))\n"
   ]
  },
  {
   "cell_type": "markdown",
   "id": "c5e8c509",
   "metadata": {},
   "source": [
    "# #Matrix Inversion\n",
    "\n",
    "# A*A-1 = A-1 *A = In\n",
    "\n",
    "#  Ainv = np.linalg.inv(A)\n",
    "\n",
    "\n",
    "Consider the matrices A and B of dimension (n, n). Let In be the identity matrix of order n.\n",
    "\n",
    "If A * B = B * A = In, then B is called the inverse of A and is denoted as A-1.\n",
    "\n",
    "AA-1 = A-1 A = In"
   ]
  },
  {
   "cell_type": "code",
   "execution_count": 11,
   "id": "01ac27cf",
   "metadata": {},
   "outputs": [
    {
     "name": "stdout",
     "output_type": "stream",
     "text": [
      "Matrix A:\n",
      " [[1 2]\n",
      " [4 5]]\n",
      "The inverse of A is:\n",
      " [[-1.66666667  0.66666667]\n",
      " [ 1.33333333 -0.33333333]]\n",
      "Multiplication of A and Ainv is:\n",
      " [[1. 0.]\n",
      " [0. 1.]]\n"
     ]
    }
   ],
   "source": [
    "# Importing required libraries (numpy as np)\n",
    "import numpy as np\n",
    "# Creating Matrix A\n",
    "A = np.array([[1, 2],\n",
    "                   [4, 5]])\n",
    "print(\"Matrix A:\\n\", A)\n",
    "# Finding the inverse matrix using np.linalg.inv() function\n",
    "Ainv = np.linalg.inv(A)\n",
    "print('The inverse of A is:\\n', Ainv)\n",
    "print(\"Multiplication of A and Ainv is:\\n\", np.matmul(A, Ainv))\n"
   ]
  },
  {
   "cell_type": "markdown",
   "id": "2a742386",
   "metadata": {},
   "source": [
    "# Orthogonal Matrix\n",
    "\n",
    "Consider matrix A of dimension (n, n) where, A is called an Orthogonal matrix if,\n",
    "\n",
    "A.AT=AT.A=In\n",
    "\n",
    "where, In is the Identity matrix.\n",
    "\n",
    "For an orthogonal matrix A,\n",
    "\n",
    "A-1=AT"
   ]
  },
  {
   "cell_type": "code",
   "execution_count": 12,
   "id": "0d1a213c",
   "metadata": {},
   "outputs": [
    {
     "name": "stdout",
     "output_type": "stream",
     "text": [
      "A:\n",
      " [[1. 0.]\n",
      " [0. 1.]]\n",
      "[[ True  True]\n",
      " [ True  True]]\n",
      "[[ True  True]\n",
      " [ True  True]]\n",
      "A it an orthogonal matrix:  True\n"
     ]
    }
   ],
   "source": [
    "# Importing required libraries (numpy as np)\n",
    "import numpy as np\n",
    "# Creating Matrix\n",
    "A = np.array([[1.0,0.0],\n",
    "                [0.0,1.0]])\n",
    "print(\"A:\\n\", A)\n",
    "#Checking for A.AT=AT.A\n",
    "comparison_1 = np.dot(A.transpose(),A) == np.dot(A,A.transpose())\n",
    "print(comparison_1)\n",
    "#Checking for A.AT=Identity Matrix\n",
    "comparison_2 =  np.dot(A.transpose(),A)== np.eye(2)\n",
    "print(comparison_2)\n",
    "# Comparing both the comparison done earlier\n",
    "comparison_3 = comparison_1 == comparison_2\n",
    "#Checking if all elements of matrix comparision are true.\n",
    "equal_arrays = comparison_3.all()\n",
    "print(\"A it an orthogonal matrix: \",equal_arrays)\n"
   ]
  },
  {
   "cell_type": "markdown",
   "id": "efa8fff9",
   "metadata": {},
   "source": [
    "# Rank of a Matrix\n",
    "\n",
    "The rank of matrix A of dimension (m, n) is the number of linearly independent rows (or columns) of A. \n",
    "\n",
    "Note: Rank of a non-zero matrix is always greater than 0 (a strictly positive integer)."
   ]
  },
  {
   "cell_type": "code",
   "execution_count": 13,
   "id": "e4c009f3",
   "metadata": {},
   "outputs": [
    {
     "name": "stdout",
     "output_type": "stream",
     "text": [
      "The matrix A is:\n",
      " [[1. 1.]\n",
      " [3. 3.]]\n",
      "The matrix B is:\n",
      " [[1. 0. 0. 0.]\n",
      " [0. 1. 0. 0.]\n",
      " [0. 0. 1. 0.]\n",
      " [0. 0. 0. 1.]]\n",
      " Rank of A is: 1\n",
      " Rank of B is: 4\n"
     ]
    }
   ],
   "source": [
    "# Importing required libraries (numpy as np)\n",
    "import numpy as np\n",
    "# Creating Matrices\n",
    "A = np.array([[1,1.0],[3,3]])\n",
    "print('The matrix A is:\\n', A)\n",
    "B = np.eye(4)\n",
    "print('The matrix B is:\\n', B)\n",
    "# Finding the rank of matrix a using np.linalg.matrix_rank() function\n",
    "print(\" Rank of A is:\",np.linalg.matrix_rank(A))\n",
    "# Finding the rank of matrix b using np.linalg.matrix_rank() function\n",
    "print(\" Rank of B is:\",np.linalg.matrix_rank(B))\n"
   ]
  },
  {
   "cell_type": "code",
   "execution_count": null,
   "id": "59c02297",
   "metadata": {},
   "outputs": [],
   "source": []
  }
 ],
 "metadata": {
  "kernelspec": {
   "display_name": "Python 3 (ipykernel)",
   "language": "python",
   "name": "python3"
  },
  "language_info": {
   "codemirror_mode": {
    "name": "ipython",
    "version": 3
   },
   "file_extension": ".py",
   "mimetype": "text/x-python",
   "name": "python",
   "nbconvert_exporter": "python",
   "pygments_lexer": "ipython3",
   "version": "3.11.4"
  }
 },
 "nbformat": 4,
 "nbformat_minor": 5
}
