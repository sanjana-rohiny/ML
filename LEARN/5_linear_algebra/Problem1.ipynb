{
 "cells": [
  {
   "cell_type": "markdown",
   "id": "e8060a8f",
   "metadata": {},
   "source": [
    "Create a square matrix A of order 3. Solve the following:\n",
    "    1. Convert A to an upper triangular matrix B"
   ]
  },
  {
   "cell_type": "code",
   "execution_count": 1,
   "id": "071dc93d",
   "metadata": {},
   "outputs": [
    {
     "name": "stdout",
     "output_type": "stream",
     "text": [
      "Matrix A:\n",
      "[[2 4 1]\n",
      " [6 2 3]\n",
      " [1 5 4]]\n",
      "\n",
      "Upper triangular matrix B:\n",
      "[[2 4 1]\n",
      " [0 2 3]\n",
      " [0 0 4]]\n"
     ]
    }
   ],
   "source": [
    "import numpy as np\n",
    "\n",
    "# Step 1: Create a square matrix A of order 3\n",
    "A = np.array([[2, 4, 1],\n",
    "              [6, 2, 3],\n",
    "              [1, 5, 4]])\n",
    "\n",
    "print(\"Matrix A:\")\n",
    "print(A)\n",
    "\n",
    "# Step 2: Convert A to an upper triangular matrix B\n",
    "B = np.triu(A)\n",
    "\n",
    "print(\"\\nUpper triangular matrix B:\")\n",
    "print(B)\n"
   ]
  },
  {
   "cell_type": "markdown",
   "id": "25d7f81e",
   "metadata": {},
   "source": [
    "2. Convert B to an upper triangular matrix C"
   ]
  },
  {
   "cell_type": "code",
   "execution_count": 2,
   "id": "3dc61adf",
   "metadata": {},
   "outputs": [
    {
     "name": "stdout",
     "output_type": "stream",
     "text": [
      "\n",
      "Lower triangular matrix C:\n",
      "[[2 0 0]\n",
      " [0 2 0]\n",
      " [0 0 4]]\n"
     ]
    }
   ],
   "source": [
    "C = np.tril(B)\n",
    "print(\"\\nLower triangular matrix C:\")\n",
    "print(C)"
   ]
  },
  {
   "cell_type": "markdown",
   "id": "5f360420",
   "metadata": {},
   "source": [
    "Find the transpose of matrix C"
   ]
  },
  {
   "cell_type": "code",
   "execution_count": 3,
   "id": "2db6578a",
   "metadata": {},
   "outputs": [
    {
     "name": "stdout",
     "output_type": "stream",
     "text": [
      "\n",
      "transposed_matrix:\n",
      "[[2 0 0]\n",
      " [0 2 0]\n",
      " [0 0 4]]\n"
     ]
    }
   ],
   "source": [
    "# Find the transpose of matrix C\n",
    "transposed_matrix = C.transpose()\n",
    "print(\"\\ntransposed_matrix:\")\n",
    "print(transposed_matrix)"
   ]
  },
  {
   "cell_type": "code",
   "execution_count": 4,
   "id": "21a6efb9",
   "metadata": {},
   "outputs": [
    {
     "name": "stdout",
     "output_type": "stream",
     "text": [
      "Matrix C is a diagonal matrix.\n"
     ]
    }
   ],
   "source": [
    "# Check whether matrix C is a diagonal matrix\n",
    "import numpy as np\n",
    "\n",
    "# Step 1: Create the matrix C\n",
    "C = np.array([[2, 0, 0],\n",
    "              [0, 2, 0],\n",
    "              [0, 0, 4]])\n",
    "\n",
    "# Step 2: Check if C is a diagonal matrix\n",
    "is_diagonal = np.all(C == np.diag(np.diagonal(C)))\n",
    "\n",
    "if is_diagonal:\n",
    "    print(\"Matrix C is a diagonal matrix.\")\n",
    "else:\n",
    "    print(\"Matrix C is not a diagonal matrix.\")\n"
   ]
  },
  {
   "cell_type": "code",
   "execution_count": 5,
   "id": "d5a2b67a",
   "metadata": {},
   "outputs": [
    {
     "name": "stdout",
     "output_type": "stream",
     "text": [
      "Matrix C is symmetric.\n"
     ]
    }
   ],
   "source": [
    "# Check whether matrix C is symmetric\n",
    "import numpy as np\n",
    "\n",
    "# Define the matrix C\n",
    "C = np.array([[2, 0, 0],\n",
    "              [0, 2, 0],\n",
    "              [0, 0, 4]])\n",
    "\n",
    "# Check if the matrix is symmetric\n",
    "is_symmetric = np.array_equal(C, C.T)\n",
    "\n",
    "if is_symmetric:\n",
    "    print(\"Matrix C is symmetric.\")\n",
    "else:\n",
    "    print(\"Matrix C is not symmetric.\")\n",
    "\n"
   ]
  },
  {
   "cell_type": "code",
   "execution_count": null,
   "id": "9331b440",
   "metadata": {},
   "outputs": [],
   "source": []
  }
 ],
 "metadata": {
  "kernelspec": {
   "display_name": "Python 3 (ipykernel)",
   "language": "python",
   "name": "python3"
  },
  "language_info": {
   "codemirror_mode": {
    "name": "ipython",
    "version": 3
   },
   "file_extension": ".py",
   "mimetype": "text/x-python",
   "name": "python",
   "nbconvert_exporter": "python",
   "pygments_lexer": "ipython3",
   "version": "3.11.4"
  }
 },
 "nbformat": 4,
 "nbformat_minor": 5
}
