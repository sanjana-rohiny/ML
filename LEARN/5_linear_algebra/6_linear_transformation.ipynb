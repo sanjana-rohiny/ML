{
 "cells": [
  {
   "cell_type": "markdown",
   "id": "4ff00652",
   "metadata": {},
   "source": [
    " # matrix transformations like:\n",
    "\n",
    "   #  1.Stretching\n",
    "   #  2.Reflection\n",
    "   #  3.Rotation\n",
    "   #  4.Projection\n"
   ]
  },
  {
   "cell_type": "markdown",
   "id": "98c66333",
   "metadata": {},
   "source": []
  }
 ],
 "metadata": {
  "kernelspec": {
   "display_name": "Python 3 (ipykernel)",
   "language": "python",
   "name": "python3"
  },
  "language_info": {
   "codemirror_mode": {
    "name": "ipython",
    "version": 3
   },
   "file_extension": ".py",
   "mimetype": "text/x-python",
   "name": "python",
   "nbconvert_exporter": "python",
   "pygments_lexer": "ipython3",
   "version": "3.11.4"
  }
 },
 "nbformat": 4,
 "nbformat_minor": 5
}
