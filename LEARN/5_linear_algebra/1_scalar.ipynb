{
 "cells": [
  {
   "cell_type": "markdown",
   "id": "8bfe3f55",
   "metadata": {},
   "source": [
    "# Scalar\n",
    "#  A Scalar is a quantity which is described by a numerical value. It is used to represent values such as:\n",
    "\n",
    "#  A number like 50\n",
    "#  Mass of sun in kilograms \n",
    "#  Length of the great wall of china in kilometres\n"
   ]
  },
  {
   "cell_type": "code",
   "execution_count": 1,
   "id": "5801618a",
   "metadata": {},
   "outputs": [
    {
     "name": "stdout",
     "output_type": "stream",
     "text": [
      "50\n",
      "1.989e+30\n",
      "21196\n"
     ]
    }
   ],
   "source": [
    "# Define scalars\n",
    "number_of_units = 50\n",
    "mass_of_sun = 1.989e30\n",
    "length_great_wall_of_china = 21196\n",
    "print(number_of_units)\n",
    "print(mass_of_sun)\n",
    "print(length_great_wall_of_china)\n"
   ]
  },
  {
   "cell_type": "code",
   "execution_count": null,
   "id": "38f8adb0",
   "metadata": {},
   "outputs": [],
   "source": []
  }
 ],
 "metadata": {
  "kernelspec": {
   "display_name": "Python 3 (ipykernel)",
   "language": "python",
   "name": "python3"
  },
  "language_info": {
   "codemirror_mode": {
    "name": "ipython",
    "version": 3
   },
   "file_extension": ".py",
   "mimetype": "text/x-python",
   "name": "python",
   "nbconvert_exporter": "python",
   "pygments_lexer": "ipython3",
   "version": "3.11.4"
  }
 },
 "nbformat": 4,
 "nbformat_minor": 5
}
