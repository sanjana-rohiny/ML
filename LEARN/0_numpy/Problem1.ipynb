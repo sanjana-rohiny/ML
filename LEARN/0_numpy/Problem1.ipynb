{
 "cells": [
  {
   "cell_type": "code",
   "execution_count": 2,
   "id": "6851d950",
   "metadata": {},
   "outputs": [
    {
     "name": "stdout",
     "output_type": "stream",
     "text": [
      "[[   1 6012]\n",
      " [   2 7079]\n",
      " [   3 6886]\n",
      " [   4 7230]\n",
      " [   5 4598]\n",
      " [   6 5564]\n",
      " [   7 6971]\n",
      " [   8 7763]\n",
      " [   9 8032]\n",
      " [  10 9569]]\n",
      "[[   1 6012]\n",
      " [   2 7079]\n",
      " [   3 6886]\n",
      " [   4 7230]\n",
      " [   5 4598]\n",
      " [   6 5564]\n",
      " [   7 6971]\n",
      " [   8 7763]\n",
      " [   9 8032]\n",
      " [  10 9569]]\n"
     ]
    }
   ],
   "source": [
    "# numpy  -  exercise\n",
    "\n",
    "# 1.  Represent the above data in a 10x2 array. In each row, the first element should contain day number and second element should contain steps walked. \n",
    "#\n",
    "# Given data: day numbers and steps walked\n",
    "\n",
    "import numpy as np\n",
    "day_numbers = np.array([1, 2, 3, 4, 5, 6, 7, 8, 9, 10])\n",
    "steps_walked = np.array([6012, 7079, 6886, 7230, 4598, 5564, 6971, 7763, 8032, 9569])\n",
    "\n",
    "# Create a 10x2 array\n",
    "data_array = np.column_stack((day_numbers, steps_walked))\n",
    "print(data_array)\n",
    "\n",
    "# anoher simpler way\n",
    "data_array1 = np.array([\n",
    "    [1, 6012],\n",
    "    [2, 7079],\n",
    "    [3, 6886],\n",
    "    [4, 7230],\n",
    "    [5, 4598],\n",
    "    [6, 5564],\n",
    "    [7, 6971],\n",
    "    [8, 7763],\n",
    "    [9, 8032],\n",
    "    [10, 9569]\n",
    "])\n",
    "print(data_array1)"
   ]
  },
  {
   "cell_type": "code",
   "execution_count": 3,
   "id": "880afb13",
   "metadata": {},
   "outputs": [
    {
     "name": "stdout",
     "output_type": "stream",
     "text": [
      "[[    1  8012]\n",
      " [    2  9079]\n",
      " [    3  8886]\n",
      " [    4  9230]\n",
      " [    5  6598]\n",
      " [    6  7564]\n",
      " [    7  8971]\n",
      " [    8  9763]\n",
      " [    9 10032]\n",
      " [   10 11569]]\n"
     ]
    }
   ],
   "source": [
    "# 2 Lee notices that the tracker’s battery dies every day at 7 pm. \n",
    "# Lee discovers that on an average, he walks 2000 steps every day after 7 pm. \n",
    "# Perform an appropriate operation on your array to add 2000 steps to all the observations.\n",
    "\n",
    "\n",
    "# Adding 2000 steps to all the observations after 7 pm\n",
    "data_array[:, 1] += 2000\n",
    "\n",
    "print(data_array)"
   ]
  },
  {
   "cell_type": "code",
   "execution_count": 4,
   "id": "7f9d6825",
   "metadata": {},
   "outputs": [
    {
     "name": "stdout",
     "output_type": "stream",
     "text": [
      "[[    2  9079]\n",
      " [    4  9230]\n",
      " [    8  9763]\n",
      " [    9 10032]\n",
      " [   10 11569]]\n",
      "[[    2  9079]\n",
      " [    4  9230]\n",
      " [    8  9763]\n",
      " [    9 10032]\n",
      " [   10 11569]]\n"
     ]
    }
   ],
   "source": [
    "# 3 Write a program that returns the steps walked if the steps walked are more than 9000.\n",
    "\n",
    "# Function to filter steps walked more than 9000\n",
    "def steps_more_than_9000(data):\n",
    "    return data[data[:, 1] > 9000]\n",
    "\n",
    "# Get the steps walked more than 9000\n",
    "steps_walked_more_than_9000 = steps_more_than_9000(data_array)\n",
    "print(steps_walked_more_than_9000)\n",
    "\n",
    "steps_walked_more_than_9000 = data_array[data_array[:, 1] > 9000]\n",
    "print(steps_walked_more_than_9000)\n"
   ]
  },
  {
   "cell_type": "code",
   "execution_count": 5,
   "id": "46ab3e19",
   "metadata": {},
   "outputs": [
    {
     "name": "stdout",
     "output_type": "stream",
     "text": [
      "[[    5  6598]\n",
      " [    6  7564]\n",
      " [    1  8012]\n",
      " [    3  8886]\n",
      " [    7  8971]\n",
      " [    2  9079]\n",
      " [    4  9230]\n",
      " [    8  9763]\n",
      " [    9 10032]\n",
      " [   10 11569]]\n"
     ]
    }
   ],
   "source": [
    "#4 Print an array containing steps walked in sorted order. \n",
    "sorted_array = data_array[data_array[:, 1].argsort()]\n",
    "\n",
    "print(sorted_array)"
   ]
  },
  {
   "cell_type": "code",
   "execution_count": 6,
   "id": "fecb4b35",
   "metadata": {},
   "outputs": [
    {
     "name": "stdout",
     "output_type": "stream",
     "text": [
      "[[   10 11569]\n",
      " [    9 10032]\n",
      " [    8  9763]\n",
      " [    4  9230]\n",
      " [    2  9079]\n",
      " [    7  8971]\n",
      " [    3  8886]\n",
      " [    1  8012]\n",
      " [    6  7564]\n",
      " [    5  6598]]\n"
     ]
    }
   ],
   "source": [
    "sorted_array_descending = data_array[data_array[:, 1].argsort()[::-1]]\n",
    "print(sorted_array_descending)\n"
   ]
  },
  {
   "cell_type": "code",
   "execution_count": null,
   "id": "ab05b150",
   "metadata": {},
   "outputs": [],
   "source": []
  }
 ],
 "metadata": {
  "kernelspec": {
   "display_name": "Python 3 (ipykernel)",
   "language": "python",
   "name": "python3"
  },
  "language_info": {
   "codemirror_mode": {
    "name": "ipython",
    "version": 3
   },
   "file_extension": ".py",
   "mimetype": "text/x-python",
   "name": "python",
   "nbconvert_exporter": "python",
   "pygments_lexer": "ipython3",
   "version": "3.11.4"
  }
 },
 "nbformat": 4,
 "nbformat_minor": 5
}
