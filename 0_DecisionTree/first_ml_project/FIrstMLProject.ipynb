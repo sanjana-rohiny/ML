{
 "cells": [
  {
   "cell_type": "markdown",
   "id": "c38926d3",
   "metadata": {},
   "source": []
  },
  {
   "cell_type": "code",
   "execution_count": 2,
   "id": "21ea5684",
   "metadata": {},
   "outputs": [
    {
     "name": "stdout",
     "output_type": "stream",
     "text": [
      "0        HipHop\n",
      "1        HipHop\n",
      "2        HipHop\n",
      "3          Jazz\n",
      "4          Jazz\n",
      "5          Jazz\n",
      "6     Classical\n",
      "7     Classical\n",
      "8     Classical\n",
      "9         Dance\n",
      "10        Dance\n",
      "11        Dance\n",
      "12     Acoustic\n",
      "13     Acoustic\n",
      "14     Acoustic\n",
      "15    Classical\n",
      "16    Classical\n",
      "17    Classical\n",
      "Name: genre, dtype: object\n"
     ]
    },
    {
     "name": "stderr",
     "output_type": "stream",
     "text": [
      "/home/administrator/anaconda3/lib/python3.11/site-packages/sklearn/base.py:439: UserWarning: X does not have valid feature names, but DecisionTreeClassifier was fitted with feature names\n",
      "  warnings.warn(\n",
      "/home/administrator/anaconda3/lib/python3.11/site-packages/sklearn/base.py:439: UserWarning: X does not have valid feature names, but DecisionTreeClassifier was fitted with feature names\n",
      "  warnings.warn(\n"
     ]
    },
    {
     "data": {
      "text/plain": [
       "['music-recommender.joblib']"
      ]
     },
     "execution_count": 2,
     "metadata": {},
     "output_type": "execute_result"
    }
   ],
   "source": [
    "# PROBLEM : There is no value for age = 21 , male. So we are going to predict genere for 21 year male\n",
    "\n",
    "#1 import\n",
    "import pandas as pd\n",
    "from sklearn.tree import DecisionTreeClassifier\n",
    "from sklearn.model_selection import train_test_split\n",
    "from sklearn.metrics import accuracy_score\n",
    "#from sklearn.externals import joblib\n",
    "import joblib\n",
    "music_data = pd.read_csv('music.csv') \n",
    "\n",
    "#2 there is nothing to clean up\n",
    "#3 Create two sets, input and output. X --> input, and y -> output\n",
    "\n",
    "#  INPUT X will be having all colums except what we want to predicy, here we want to predict \"genre\". \n",
    "#  So drop 'genre' from tne base set and creaete a new dataset.\n",
    "X = music_data.drop(columns=['genre'])\n",
    "\n",
    "# OUTPUT dataset must contain the only one that we want to predict, that is genre\n",
    "y = music_data['genre']\n",
    "\n",
    "print(y)\n",
    "#4 Now qw will create a model.\n",
    "    # select one algorithm which is most suited to this problem, and we decide to use decision tree\n",
    "    # import required libraries.--> from sklearn.tree import  DecisionTreeClassifieer\n",
    "    # package scikitlearn ->sklearn. \n",
    "    # library DecisionTreeClassifieer\n",
    "    \n",
    "# Create an model object of DecisionTreeClassifieer\n",
    "model = DecisionTreeClassifier()\n",
    "\n",
    "#5 Train model with input and output\n",
    "model.fit(X, y)\n",
    "\n",
    "#6 Do prediction for 21 year old male\n",
    "prediction = model.predict([[21,1]])\n",
    "prediction\n",
    "\n",
    "# Do prediction with 21, male and 22, female\n",
    "prediction = model.predict([[21,1], [22,0]])\n",
    "prediction\n",
    "\n",
    "#7 Need to measure accuracy of prediction. If its not accurate enough, need to change model or filne tune model\n",
    "\n",
    "    # generally we will create two sets, 1. training set and testing set\n",
    "    # 70 to 80 percent of data is made as training set, and reamining for trsting\n",
    "    # inorderto split data, we have onr library in sklearn\n",
    "    # from sklearn.model_selection import train_test_split\n",
    "\n",
    "# created testing and training set for input and utput    \n",
    "X_train, X_test, y_train, y_test = train_test_split(X, y, test_size = 0.2)\n",
    "model = DecisionTreeClassifier()\n",
    "model.fit(X_train, y_train)\n",
    "prediction = model.predict(X_test)\n",
    "\n",
    "#8 To check accuracy, we need to imprt another library from sklearn\n",
    "    # from sklearn.metrics import accuracy_score\n",
    "score = accuracy_score(y_test, prediction)\n",
    "score\n",
    "\n",
    "joblib.dump(model, 'music-recommender.joblib')\n"
   ]
  },
  {
   "cell_type": "code",
   "execution_count": 59,
   "id": "fe30f813",
   "metadata": {},
   "outputs": [
    {
     "name": "stderr",
     "output_type": "stream",
     "text": [
      "/home/lenovo/anaconda3/lib/python3.9/site-packages/sklearn/base.py:450: UserWarning: X does not have valid feature names, but DecisionTreeClassifier was fitted with feature names\n",
      "  warnings.warn(\n"
     ]
    },
    {
     "data": {
      "text/plain": [
       "array(['HipHop'], dtype=object)"
      ]
     },
     "execution_count": 59,
     "metadata": {},
     "output_type": "execute_result"
    }
   ],
   "source": [
    "# Creating and training model is time comsuming...!\n",
    "# so there is option to save the trained model to a binary file, and load it to do prediction\n",
    "# so that , we create and train model only once.\n",
    "\n",
    "\n",
    "import joblib\n",
    "\n",
    "model = joblib.load('music-recommender.joblib')\n",
    "prediction = model.predict([[21,1]])\n",
    "prediction\n"
   ]
  },
  {
   "cell_type": "code",
   "execution_count": 68,
   "id": "f6ab7f34",
   "metadata": {},
   "outputs": [
    {
     "name": "stdout",
     "output_type": "stream",
     "text": [
      "Graphical view..!\n"
     ]
    },
    {
     "name": "stderr",
     "output_type": "stream",
     "text": [
      "/home/lenovo/anaconda3/lib/python3.9/site-packages/sklearn/base.py:450: UserWarning: X does not have valid feature names, but DecisionTreeClassifier was fitted with feature names\n",
      "  warnings.warn(\n"
     ]
    }
   ],
   "source": [
    "# GRAPHVIZ - visualizing decisin tree\n",
    "import pandas as pd\n",
    "from sklearn.tree import DecisionTreeClassifier\n",
    "from sklearn.model_selection import train_test_split\n",
    "from sklearn import tree\n",
    "\n",
    "print('Graphical view..!')\n",
    "\n",
    "music_data = pd.read_csv('music.csv') \n",
    "\n",
    "X = music_data.drop(columns=['genre'])\n",
    "y = music_data['genre']\n",
    "\n",
    "model = DecisionTreeClassifier()\n",
    "model.fit(X, y)\n",
    "\n",
    "#6 Do prediction for 21 year old male\n",
    "prediction = model.predict([[21,1]])\n",
    "prediction\n",
    "\n",
    "tree.export_graphviz(model, out_file='music-recommender.dot',\n",
    "                        feature_names=['Age', 'gender'],\n",
    "                    class_names=sorted(y.unique()),\n",
    "                    label='all',\n",
    "                    rounded=True,\n",
    "                    filled=True)\n",
    "\n",
    "# this will create music-recommender.dot\n",
    "# To export into png, do the below \n",
    "#~/Python_123/Day1$ dot -Tpng music-recommender.dot -o sample.png\n",
    "# now sample.png will show the decision tree\n"
   ]
  },
  {
   "cell_type": "code",
   "execution_count": null,
   "id": "65eb4e1b",
   "metadata": {},
   "outputs": [],
   "source": []
  }
 ],
 "metadata": {
  "kernelspec": {
   "display_name": "Python 3 (ipykernel)",
   "language": "python",
   "name": "python3"
  },
  "language_info": {
   "codemirror_mode": {
    "name": "ipython",
    "version": 3
   },
   "file_extension": ".py",
   "mimetype": "text/x-python",
   "name": "python",
   "nbconvert_exporter": "python",
   "pygments_lexer": "ipython3",
   "version": "3.11.4"
  }
 },
 "nbformat": 4,
 "nbformat_minor": 5
}
